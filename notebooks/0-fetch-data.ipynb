{
 "cells": [
  {
   "cell_type": "code",
   "execution_count": 1,
   "id": "0546f928",
   "metadata": {},
   "outputs": [
    {
     "name": "stdout",
     "output_type": "stream",
     "text": [
      "Requirement already satisfied: wget in /usr/local/lib/python3.6/site-packages (3.2)\n",
      "\u001b[33mWARNING: Running pip as the 'root' user can result in broken permissions and conflicting behaviour with the system package manager. It is recommended to use a virtual environment instead: https://pip.pypa.io/warnings/venv\u001b[0m\n"
     ]
    }
   ],
   "source": [
    "!pip install wget"
   ]
  },
  {
   "cell_type": "code",
   "execution_count": 2,
   "id": "5bcc4a12",
   "metadata": {},
   "outputs": [],
   "source": [
    "import os\n",
    "import json\n",
    "import wget\n",
    "import zipfile"
   ]
  },
  {
   "cell_type": "code",
   "execution_count": 3,
   "id": "ae390d54",
   "metadata": {},
   "outputs": [],
   "source": [
    "with open(\"./config.json\", \"r\") as fp:\n",
    "    config = json.load(fp)"
   ]
  },
  {
   "cell_type": "code",
   "execution_count": 4,
   "id": "6ac05752",
   "metadata": {},
   "outputs": [],
   "source": [
    "DATA_DIR_PATH = config[\"data_dir_path\"]\n",
    "\n",
    "os.makedirs(DATA_DIR_PATH, exist_ok=True)"
   ]
  },
  {
   "cell_type": "markdown",
   "id": "d50fc1a3",
   "metadata": {},
   "source": [
    "# Fetch SNLI datasets"
   ]
  },
  {
   "cell_type": "code",
   "execution_count": 5,
   "id": "da994767",
   "metadata": {},
   "outputs": [
    {
     "name": "stdout",
     "output_type": "stream",
     "text": [
      "https://nlp.stanford.edu/projects/snli/snli_1.0.zip ./data/snli_1.0.zip ./data/snli_1.0\n"
     ]
    }
   ],
   "source": [
    "SNLI_URL = \"https://nlp.stanford.edu/projects/snli/snli_1.0.zip\"\n",
    "SNLI_ZIP_PATH = os.path.join(DATA_DIR_PATH, \"snli_1.0.zip\")\n",
    "SNLI_DIR_PATH = os.path.join(DATA_DIR_PATH, \"snli_1.0\")\n",
    "print(SNLI_URL, SNLI_ZIP_PATH, SNLI_DIR_PATH)"
   ]
  },
  {
   "cell_type": "code",
   "execution_count": 6,
   "id": "4407581d",
   "metadata": {},
   "outputs": [],
   "source": [
    "if os.path.isfile(SNLI_ZIP_PATH) == False and os.path.isdir(SNLI_DIR_PATH) == False:\n",
    "    wget.download(SNLI_URL, SNLI_ZIP_PATH)"
   ]
  },
  {
   "cell_type": "code",
   "execution_count": 12,
   "id": "6ca596c2",
   "metadata": {},
   "outputs": [],
   "source": [
    "if os.path.isdir(SNLI_DIR_PATH) == False:\n",
    "    with zipfile.ZipFile(SNLI_ZIP_PATH, 'r') as zf:\n",
    "        for name in zf.namelist():\n",
    "            if \"__MACOSX\" in name or \".DS_Store\" in name or \"Icon\" in name:\n",
    "                continue\n",
    "            zf.extract(name, DATA_DIR_PATH)"
   ]
  },
  {
   "cell_type": "markdown",
   "id": "685b0e47",
   "metadata": {},
   "source": [
    "# Fetch Glove 840B 300D data"
   ]
  },
  {
   "cell_type": "code",
   "execution_count": 9,
   "id": "4d57c174",
   "metadata": {},
   "outputs": [
    {
     "name": "stdout",
     "output_type": "stream",
     "text": [
      "http://www-nlp.stanford.edu/data/glove.840B.300d.zip ./data/glove.840B.300d.zip ./data/glove.840B.300d.txt\n"
     ]
    }
   ],
   "source": [
    "GLOVE_URL = \"http://www-nlp.stanford.edu/data/glove.840B.300d.zip\"\n",
    "GLOVE_ZIP_PATH = os.path.join(DATA_DIR_PATH, \"glove.840B.300d.zip\")\n",
    "GLOVE_FILE_PATH = os.path.join(DATA_DIR_PATH, \"glove.840B.300d.txt\")\n",
    "print(GLOVE_URL, GLOVE_ZIP_PATH, GLOVE_FILE_PATH)"
   ]
  },
  {
   "cell_type": "code",
   "execution_count": 10,
   "id": "2b5c20e6",
   "metadata": {},
   "outputs": [],
   "source": [
    "if os.path.isfile(GLOVE_ZIP_PATH) == False and os.path.isfile(GLOVE_FILE_PATH) == False:\n",
    "    wget.download(GLOVE_URL, GLOVE_ZIP_PATH)"
   ]
  },
  {
   "cell_type": "code",
   "execution_count": 11,
   "id": "625f9051",
   "metadata": {},
   "outputs": [],
   "source": [
    "if os.path.isfile(GLOVE_FILE_PATH) == False:\n",
    "    with zipfile.ZipFile(GLOVE_ZIP_PATH, 'r') as zf:\n",
    "        for name in zf.namelist():\n",
    "            zf.extract(name, DATA_DIR_PATH)"
   ]
  }
 ],
 "metadata": {
  "kernelspec": {
   "display_name": "Python 3",
   "language": "python",
   "name": "python3"
  },
  "language_info": {
   "codemirror_mode": {
    "name": "ipython",
    "version": 3
   },
   "file_extension": ".py",
   "mimetype": "text/x-python",
   "name": "python",
   "nbconvert_exporter": "python",
   "pygments_lexer": "ipython3",
   "version": "3.6.15"
  }
 },
 "nbformat": 4,
 "nbformat_minor": 5
}
