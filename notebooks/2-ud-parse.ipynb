{
 "cells": [
  {
   "cell_type": "code",
   "execution_count": null,
   "id": "f728e8d5",
   "metadata": {
    "scrolled": true
   },
   "outputs": [],
   "source": [
    "!pip install pandas requests lxml tqdm"
   ]
  },
  {
   "cell_type": "code",
   "execution_count": null,
   "id": "a8fe64b8",
   "metadata": {},
   "outputs": [],
   "source": [
    "import pandas as pd\n",
    "import os\n",
    "from tqdm import tqdm\n",
    "from utils import *\n",
    "import json"
   ]
  },
  {
   "cell_type": "code",
   "execution_count": null,
   "id": "58e0ddcb",
   "metadata": {},
   "outputs": [],
   "source": [
    "with open(\"./config.json\", \"r\") as fp:\n",
    "    config = json.load(fp)"
   ]
  },
  {
   "cell_type": "code",
   "execution_count": null,
   "id": "47d8d600",
   "metadata": {},
   "outputs": [],
   "source": [
    "DATA_DIR_PATH = config[\"data_dir_path\"]"
   ]
  },
  {
   "cell_type": "markdown",
   "id": "6b339d6c",
   "metadata": {},
   "source": [
    "# Read SNLI datasets and generate UD tree and concat to df"
   ]
  },
  {
   "cell_type": "code",
   "execution_count": null,
   "id": "c3377fd9",
   "metadata": {},
   "outputs": [],
   "source": [
    "df_snli_train = pd.read_csv(os.path.join(DATA_DIR_PATH, \"snli_train.tsv\"), delimiter='\\t', index_col=0)\n",
    "df_snli_dev = pd.read_csv(os.path.join(DATA_DIR_PATH, \"snli_dev.tsv\"), delimiter='\\t', index_col=0)\n",
    "df_snli_test = pd.read_csv(os.path.join(DATA_DIR_PATH, \"snli_test.tsv\"), delimiter='\\t', index_col=0)"
   ]
  },
  {
   "cell_type": "code",
   "execution_count": null,
   "id": "f9b56270",
   "metadata": {},
   "outputs": [],
   "source": [
    "len(df_snli_train), len(df_snli_dev), len(df_snli_test)"
   ]
  },
  {
   "cell_type": "code",
   "execution_count": null,
   "id": "e0ba3a39-7565-4549-8b77-c2a7d9fa2f70",
   "metadata": {},
   "outputs": [],
   "source": [
    "df_snli_train_head = df_snli_train.head()"
   ]
  },
  {
   "cell_type": "code",
   "execution_count": null,
   "id": "f8d7b226",
   "metadata": {},
   "outputs": [],
   "source": [
    "def concat_udtree_to_df(df):\n",
    "    udtree1_list = []\n",
    "    udtree2_list = []\n",
    "    ud1_list = []\n",
    "    ud2_list = []\n",
    "    \n",
    "    sample_list = list(df.itertuples())\n",
    "    for i, sample in enumerate(tqdm(sample_list)):\n",
    "            if \"ud1\" in df:\n",
    "                ud1 = json.loads(sample.ud1)\n",
    "            else:\n",
    "                ud1 = udify_predict(sample.sentence1)\n",
    "            \n",
    "            if \"ud2\" in df:\n",
    "                ud2 = json.loads(sample.ud2)\n",
    "            else:\n",
    "                ud2 = udify_predict(sample.sentence2)\n",
    "            \n",
    "            udtree1 = ET.tostring(ud2tree(ud1, sample.sentence1), encoding=\"utf-8\").decode()\n",
    "            udtree2 = ET.tostring(ud2tree(ud2, sample.sentence2), encoding=\"utf-8\").decode()\n",
    "            \n",
    "            ud1 = json.dumps(ud1)\n",
    "            ud2 = json.dumps(ud2)\n",
    "            \n",
    "            udtree1_list.append(udtree1)\n",
    "            udtree2_list.append(udtree2)\n",
    "            ud1_list.append(ud1)\n",
    "            ud2_list.append(ud2)\n",
    "\n",
    "    df[\"udtree1\"] = udtree1_list\n",
    "    df[\"udtree2\"] = udtree2_list\n",
    "    if not \"ud1\" in df:\n",
    "        df[\"ud1\"] = ud1_list\n",
    "    \n",
    "    if not \"ud2\" in df:\n",
    "        df[\"ud2\"] = ud2_list\n",
    "    \n",
    "    return df"
   ]
  },
  {
   "cell_type": "code",
   "execution_count": null,
   "id": "c77058d5",
   "metadata": {},
   "outputs": [],
   "source": [
    "df_snli_train_head = concat_udtree_to_df(df_snli_train_head)\n",
    "df_snli_train_head"
   ]
  },
  {
   "cell_type": "code",
   "execution_count": null,
   "id": "13e67186",
   "metadata": {},
   "outputs": [],
   "source": [
    "df_snli_dev = concat_udtree_to_df(df_snli_dev)\n",
    "df_snli_dev.head()"
   ]
  },
  {
   "cell_type": "code",
   "execution_count": null,
   "id": "d81cdc1d-4c1e-491c-8a77-69146255a67d",
   "metadata": {},
   "outputs": [],
   "source": [
    "df_snli_dev.to_csv(os.path.join(DATA_DIR_PATH, \"snli_dev.tsv\"), sep=\"\\t\")"
   ]
  },
  {
   "cell_type": "code",
   "execution_count": null,
   "id": "f1a856d0",
   "metadata": {
    "scrolled": true
   },
   "outputs": [],
   "source": [
    "df_snli_test = concat_udtree_to_df(df_snli_test)\n",
    "df_snli_test.head()"
   ]
  },
  {
   "cell_type": "code",
   "execution_count": null,
   "id": "20857304",
   "metadata": {},
   "outputs": [],
   "source": [
    "df_snli_test.to_csv(os.path.join(DATA_DIR_PATH, \"snli_test.tsv\"), sep=\"\\t\")"
   ]
  },
  {
   "cell_type": "code",
   "execution_count": null,
   "id": "ec030089",
   "metadata": {},
   "outputs": [],
   "source": []
  }
 ],
 "metadata": {
  "kernelspec": {
   "display_name": "Python 3",
   "language": "python",
   "name": "python3"
  },
  "language_info": {
   "codemirror_mode": {
    "name": "ipython",
    "version": 3
   },
   "file_extension": ".py",
   "mimetype": "text/x-python",
   "name": "python",
   "nbconvert_exporter": "python",
   "pygments_lexer": "ipython3",
   "version": "3.6.7"
  }
 },
 "nbformat": 4,
 "nbformat_minor": 5
}
