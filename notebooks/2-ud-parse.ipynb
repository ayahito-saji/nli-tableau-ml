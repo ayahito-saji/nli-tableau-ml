{
 "cells": [
  {
   "cell_type": "code",
   "execution_count": null,
   "id": "f728e8d5",
   "metadata": {
    "scrolled": true
   },
   "outputs": [],
   "source": [
    "!pip install requests lxml tqdm"
   ]
  },
  {
   "cell_type": "code",
   "execution_count": null,
   "id": "a8fe64b8",
   "metadata": {},
   "outputs": [],
   "source": [
    "import pandas as pd\n",
    "import os\n",
    "from tqdm.notebook import tqdm\n",
    "from utils import *"
   ]
  },
  {
   "cell_type": "code",
   "execution_count": null,
   "id": "58e0ddcb",
   "metadata": {},
   "outputs": [],
   "source": [
    "with open(\"./config.json\", \"r\") as fp:\n",
    "    config = json.load(fp)"
   ]
  },
  {
   "cell_type": "code",
   "execution_count": null,
   "id": "47d8d600",
   "metadata": {},
   "outputs": [],
   "source": [
    "DATA_DIR_PATH = config[\"data_dir_path\"]"
   ]
  },
  {
   "cell_type": "markdown",
   "id": "6b339d6c",
   "metadata": {},
   "source": [
    "# Read SNLI datasets and generate UD tree and concat to df"
   ]
  },
  {
   "cell_type": "code",
   "execution_count": null,
   "id": "c3377fd9",
   "metadata": {},
   "outputs": [],
   "source": [
    "df_snli_train = pd.read_csv(os.path.join(DATA_DIR_PATH, \"snli_train.tsv\"), delimiter='\\t', index_col=0)\n",
    "df_snli_dev = pd.read_csv(os.path.join(DATA_DIR_PATH, \"snli_dev.tsv\"), delimiter='\\t', index_col=0)\n",
    "df_snli_test = pd.read_csv(os.path.join(DATA_DIR_PATH, \"snli_test.tsv\"), delimiter='\\t', index_col=0)"
   ]
  },
  {
   "cell_type": "code",
   "execution_count": null,
   "id": "f8d7b226",
   "metadata": {},
   "outputs": [],
   "source": [
    "def concat_udtree_to_df(df):\n",
    "    udtree1_list = []\n",
    "    udtree2_list = []\n",
    "    \n",
    "    sample_list = list(df.itertuples())\n",
    "    for i, sample in enumerate(tqdm(sample_list)):\n",
    "        udtree1 = ET.tostring(sentence2tree(sample.tokens1), encoding=\"utf-8\").decode()\n",
    "        udtree2 = ET.tostring(sentence2tree(sample.tokens2), encoding=\"utf-8\").decode()\n",
    "        udtree1_list.append(udtree1)\n",
    "        udtree2_list.append(udtree2)\n",
    "\n",
    "    df[\"udtree1\"] = udtree1_list\n",
    "    df[\"udtree2\"] = udtree2_list"
   ]
  },
  {
   "cell_type": "code",
   "execution_count": null,
   "id": "ad1c32b6",
   "metadata": {},
   "outputs": [],
   "source": [
    "concat_udtree_to_df(df_snli_train)\n",
    "df_snli_train.head()"
   ]
  },
  {
   "cell_type": "code",
   "execution_count": null,
   "id": "13e67186",
   "metadata": {},
   "outputs": [],
   "source": [
    "concat_udtree_to_df(df_snli_dev)\n",
    "df_snli_dev.head()"
   ]
  },
  {
   "cell_type": "code",
   "execution_count": null,
   "id": "f1a856d0",
   "metadata": {},
   "outputs": [],
   "source": [
    "concat_udtree_to_df(df_snli_test)\n",
    "df_snli_test.head()"
   ]
  },
  {
   "cell_type": "code",
   "execution_count": null,
   "id": "20857304",
   "metadata": {},
   "outputs": [],
   "source": [
    "df_snli_train.to_csv(os.path.join(DATA_DIR_PATH, \"snli_train.tsv\"), sep=\"\\t\")\n",
    "df_snli_dev.to_csv(os.path.join(DATA_DIR_PATH, \"snli_dev.tsv\"), sep=\"\\t\")\n",
    "df_snli_test.to_csv(os.path.join(DATA_DIR_PATH, \"snli_test.tsv\"), sep=\"\\t\")"
   ]
  }
 ],
 "metadata": {
  "kernelspec": {
   "display_name": "Python 3 (ipykernel)",
   "language": "python",
   "name": "python3"
  },
  "language_info": {
   "codemirror_mode": {
    "name": "ipython",
    "version": 3
   },
   "file_extension": ".py",
   "mimetype": "text/x-python",
   "name": "python",
   "nbconvert_exporter": "python",
   "pygments_lexer": "ipython3",
   "version": "3.7.11"
  }
 },
 "nbformat": 4,
 "nbformat_minor": 5
}
