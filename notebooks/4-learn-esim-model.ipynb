{
 "cells": [
  {
   "cell_type": "markdown",
   "id": "b6f9e659-9c91-42b1-bd64-c242a3814224",
   "metadata": {},
   "source": [
    "# Fetch ESIM from github"
   ]
  },
  {
   "cell_type": "code",
   "execution_count": null,
   "id": "0cf33f0b-74da-4524-8eee-2445cedd011a",
   "metadata": {},
   "outputs": [],
   "source": [
    "!git clone https://github.com/coetaur0/ESIM ./ESIM"
   ]
  },
  {
   "cell_type": "code",
   "execution_count": null,
   "id": "966ac7db",
   "metadata": {},
   "outputs": [],
   "source": [
    "!pip install torch==1.4.0"
   ]
  },
  {
   "cell_type": "markdown",
   "id": "0fac0ada",
   "metadata": {},
   "source": [
    "# Install ESIM"
   ]
  },
  {
   "cell_type": "code",
   "execution_count": null,
   "id": "40ebf246-ef9c-40bf-925a-637b10f26bf7",
   "metadata": {
    "scrolled": true
   },
   "outputs": [],
   "source": [
    "!(cd ./ESIM && pip install --upgrade .)"
   ]
  },
  {
   "cell_type": "code",
   "execution_count": null,
   "id": "0c65fdb0",
   "metadata": {},
   "outputs": [],
   "source": [
    "import torch\n",
    "\n",
    "torch.backends.cudnn.enabled = False\n",
    "\n",
    "torch.cuda.is_available()"
   ]
  },
  {
   "cell_type": "markdown",
   "id": "b1925b61",
   "metadata": {},
   "source": [
    "# Train with SNLI"
   ]
  },
  {
   "cell_type": "code",
   "execution_count": null,
   "id": "f7b8104f",
   "metadata": {},
   "outputs": [],
   "source": [
    "!(cd ./ESIM/scripts/training && python3 train_snli.py --config=\"../../../esim_config.json\")"
   ]
  },
  {
   "cell_type": "code",
   "execution_count": null,
   "id": "6d9f71df",
   "metadata": {},
   "outputs": [],
   "source": []
  }
 ],
 "metadata": {
  "kernelspec": {
   "display_name": "Python 3 (ipykernel)",
   "language": "python",
   "name": "python3"
  },
  "language_info": {
   "codemirror_mode": {
    "name": "ipython",
    "version": 3
   },
   "file_extension": ".py",
   "mimetype": "text/x-python",
   "name": "python",
   "nbconvert_exporter": "python",
   "pygments_lexer": "ipython3",
   "version": "3.7.11"
  }
 },
 "nbformat": 4,
 "nbformat_minor": 5
}
