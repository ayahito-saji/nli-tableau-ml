{
 "cells": [
  {
   "cell_type": "code",
   "execution_count": null,
   "id": "e533f3d9",
   "metadata": {},
   "outputs": [],
   "source": [
    "!pip install pandas"
   ]
  },
  {
   "cell_type": "code",
   "execution_count": null,
   "id": "c21bb807",
   "metadata": {},
   "outputs": [],
   "source": [
    "import pandas as pd\n",
    "import json\n",
    "import os"
   ]
  },
  {
   "cell_type": "code",
   "execution_count": null,
   "id": "94ba66ca",
   "metadata": {},
   "outputs": [],
   "source": [
    "with open(\"./config.json\", \"r\") as fp:\n",
    "    config = json.load(fp)"
   ]
  },
  {
   "cell_type": "code",
   "execution_count": null,
   "id": "06474b39",
   "metadata": {},
   "outputs": [],
   "source": [
    "DATA_DIR_PATH = config[\"data_dir_path\"]\n",
    "SNLI_DIR_PATH = os.path.join(DATA_DIR_PATH, \"snli_1.0\")"
   ]
  },
  {
   "cell_type": "markdown",
   "id": "f4891e60",
   "metadata": {},
   "source": [
    "# Read SNLI datasets"
   ]
  },
  {
   "cell_type": "code",
   "execution_count": null,
   "id": "ca424857",
   "metadata": {},
   "outputs": [],
   "source": [
    "df_snli_train = pd.read_csv(os.path.join(SNLI_DIR_PATH, \"snli_1.0_train.txt\"), delimiter='\\t')\n",
    "df_snli_dev = pd.read_csv(os.path.join(SNLI_DIR_PATH, \"snli_1.0_dev.txt\"), delimiter='\\t')\n",
    "df_snli_test = pd.read_csv(os.path.join(SNLI_DIR_PATH, \"snli_1.0_test.txt\"), delimiter='\\t')"
   ]
  },
  {
   "cell_type": "code",
   "execution_count": null,
   "id": "0fe7b6b9",
   "metadata": {},
   "outputs": [],
   "source": [
    "df_snli_train = df_snli_train[[\"gold_label\", \"sentence1_binary_parse\", \"sentence2_binary_parse\", \"sentence1\", \"sentence2\"]].query(\"gold_label != '-'\").dropna(how=\"any\")\n",
    "df_snli_dev = df_snli_dev[[\"gold_label\", \"sentence1_binary_parse\", \"sentence2_binary_parse\", \"sentence1\", \"sentence2\"]].query(\"gold_label != '-'\").dropna(how=\"any\")\n",
    "df_snli_test = df_snli_test[[\"gold_label\", \"sentence1_binary_parse\", \"sentence2_binary_parse\", \"sentence1\", \"sentence2\"]].query(\"gold_label != '-'\").dropna(how=\"any\")"
   ]
  },
  {
   "cell_type": "code",
   "execution_count": null,
   "id": "e58bec94",
   "metadata": {},
   "outputs": [],
   "source": [
    "df_snli_train.head()"
   ]
  },
  {
   "cell_type": "code",
   "execution_count": null,
   "id": "58fc2a06",
   "metadata": {},
   "outputs": [],
   "source": [
    "df_snli_dev.head()"
   ]
  },
  {
   "cell_type": "code",
   "execution_count": null,
   "id": "a2ecd7ee",
   "metadata": {},
   "outputs": [],
   "source": [
    "df_snli_test.head()"
   ]
  },
  {
   "cell_type": "markdown",
   "id": "733732fc",
   "metadata": {},
   "source": [
    "# Generate tokens from binary_parse and concat to df"
   ]
  },
  {
   "cell_type": "code",
   "execution_count": null,
   "id": "1442faa0",
   "metadata": {},
   "outputs": [],
   "source": [
    "import re\n",
    "\n",
    "def convert_binary_parse_to_tokens(binary_parse):\n",
    "    tokens = binary_parse\n",
    "    \n",
    "    tokens = re.sub(\"\\(\", \"\", tokens) # remove left parentheses\n",
    "    tokens = re.sub(\"\\)\", \"\", tokens) # remove right parentheses\n",
    "    tokens = re.sub(\"\\s+\", \" \", tokens) # remove multi space\n",
    "    tokens = re.sub(\"``\", \"\\\"\", tokens) # replace `` to \" \n",
    "    tokens = re.sub(\"''\", \"\\\"\", tokens) # replace '' to \"\n",
    "    tokens = tokens.strip()\n",
    "    return tokens\n",
    "\n",
    "def concat_tokens_to_df(df):\n",
    "    tokens1 = []\n",
    "    tokens2 = []\n",
    "\n",
    "    for sample in list(df.itertuples()):\n",
    "        tokens1.append(convert_binary_parse_to_tokens(sample.sentence1_binary_parse))\n",
    "        tokens2.append(convert_binary_parse_to_tokens(sample.sentence2_binary_parse))\n",
    "    \n",
    "    df[\"tokens1\"] = tokens1\n",
    "    df[\"tokens2\"] = tokens2"
   ]
  },
  {
   "cell_type": "code",
   "execution_count": null,
   "id": "ab1a4b3d",
   "metadata": {},
   "outputs": [],
   "source": [
    "concat_tokens_to_df(df_snli_train)\n",
    "df_snli_train.head()"
   ]
  },
  {
   "cell_type": "code",
   "execution_count": null,
   "id": "38c23b49",
   "metadata": {},
   "outputs": [],
   "source": [
    "concat_tokens_to_df(df_snli_dev)\n",
    "df_snli_dev.head()"
   ]
  },
  {
   "cell_type": "code",
   "execution_count": null,
   "id": "f663d269",
   "metadata": {},
   "outputs": [],
   "source": [
    "concat_tokens_to_df(df_snli_test)\n",
    "df_snli_test.head()"
   ]
  },
  {
   "cell_type": "code",
   "execution_count": null,
   "id": "7cadaaf4",
   "metadata": {},
   "outputs": [],
   "source": [
    "df_snli_train.to_csv(os.path.join(DATA_DIR_PATH, \"snli_train.tsv\"), sep=\"\\t\")\n",
    "df_snli_dev.to_csv(os.path.join(DATA_DIR_PATH, \"snli_dev.tsv\"), sep=\"\\t\")\n",
    "df_snli_test.to_csv(os.path.join(DATA_DIR_PATH, \"snli_test.tsv\"), sep=\"\\t\")"
   ]
  },
  {
   "cell_type": "code",
   "execution_count": null,
   "id": "bdadb6c1",
   "metadata": {},
   "outputs": [],
   "source": []
  }
 ],
 "metadata": {
  "kernelspec": {
   "display_name": "Python 3",
   "language": "python",
   "name": "python3"
  },
  "language_info": {
   "codemirror_mode": {
    "name": "ipython",
    "version": 3
   },
   "file_extension": ".py",
   "mimetype": "text/x-python",
   "name": "python",
   "nbconvert_exporter": "python",
   "pygments_lexer": "ipython3",
   "version": "3.6.7"
  }
 },
 "nbformat": 4,
 "nbformat_minor": 5
}
